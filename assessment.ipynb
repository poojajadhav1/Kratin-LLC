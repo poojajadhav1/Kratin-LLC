{
 "cells": [
  {
   "cell_type": "code",
   "execution_count": 1,
   "id": "91592d65",
   "metadata": {},
   "outputs": [],
   "source": [
    "import pandas as pd\n",
    "import numpy as np\n",
    "import webbrowser"
   ]
  },
  {
   "cell_type": "code",
   "execution_count": 2,
   "id": "6d2e3ce4",
   "metadata": {},
   "outputs": [],
   "source": [
    "df=pd.read_csv('C:/Users/Sony/Desktop/heart.csv')"
   ]
  },
  {
   "cell_type": "code",
   "execution_count": 3,
   "id": "1ab9afaa",
   "metadata": {},
   "outputs": [
    {
     "name": "stderr",
     "output_type": "stream",
     "text": [
      "<ipython-input-3-7f25c6ff472d>:2: UserWarning: Boolean Series key will be reindexed to match DataFrame index.\n",
      "  df1=df1[df['sex']==1]\n"
     ]
    }
   ],
   "source": [
    "df1=df[df['age']>=65]\n",
    "df1=df1[df['sex']==1]"
   ]
  },
  {
   "cell_type": "code",
   "execution_count": 4,
   "id": "3ee5312e",
   "metadata": {},
   "outputs": [],
   "source": [
    "df1=df1[['age','sex','chest pain type','bp level','chol level','fasting blood sugar','target']]"
   ]
  },
  {
   "cell_type": "code",
   "execution_count": 5,
   "id": "63d8afb6",
   "metadata": {},
   "outputs": [
    {
     "data": {
      "text/html": [
       "<div>\n",
       "<style scoped>\n",
       "    .dataframe tbody tr th:only-of-type {\n",
       "        vertical-align: middle;\n",
       "    }\n",
       "\n",
       "    .dataframe tbody tr th {\n",
       "        vertical-align: top;\n",
       "    }\n",
       "\n",
       "    .dataframe thead th {\n",
       "        text-align: right;\n",
       "    }\n",
       "</style>\n",
       "<table border=\"1\" class=\"dataframe\">\n",
       "  <thead>\n",
       "    <tr style=\"text-align: right;\">\n",
       "      <th></th>\n",
       "      <th>age</th>\n",
       "      <th>sex</th>\n",
       "      <th>chest pain type</th>\n",
       "      <th>bp level</th>\n",
       "      <th>chol level</th>\n",
       "      <th>fasting blood sugar</th>\n",
       "      <th>target</th>\n",
       "    </tr>\n",
       "  </thead>\n",
       "  <tbody>\n",
       "    <tr>\n",
       "      <th>2</th>\n",
       "      <td>70</td>\n",
       "      <td>1</td>\n",
       "      <td>0</td>\n",
       "      <td>145</td>\n",
       "      <td>174</td>\n",
       "      <td>0</td>\n",
       "      <td>0</td>\n",
       "    </tr>\n",
       "    <tr>\n",
       "      <th>33</th>\n",
       "      <td>70</td>\n",
       "      <td>1</td>\n",
       "      <td>2</td>\n",
       "      <td>160</td>\n",
       "      <td>269</td>\n",
       "      <td>0</td>\n",
       "      <td>0</td>\n",
       "    </tr>\n",
       "    <tr>\n",
       "      <th>58</th>\n",
       "      <td>67</td>\n",
       "      <td>1</td>\n",
       "      <td>2</td>\n",
       "      <td>152</td>\n",
       "      <td>212</td>\n",
       "      <td>0</td>\n",
       "      <td>0</td>\n",
       "    </tr>\n",
       "    <tr>\n",
       "      <th>62</th>\n",
       "      <td>67</td>\n",
       "      <td>1</td>\n",
       "      <td>0</td>\n",
       "      <td>100</td>\n",
       "      <td>299</td>\n",
       "      <td>0</td>\n",
       "      <td>0</td>\n",
       "    </tr>\n",
       "    <tr>\n",
       "      <th>89</th>\n",
       "      <td>68</td>\n",
       "      <td>1</td>\n",
       "      <td>0</td>\n",
       "      <td>144</td>\n",
       "      <td>193</td>\n",
       "      <td>1</td>\n",
       "      <td>0</td>\n",
       "    </tr>\n",
       "    <tr>\n",
       "      <th>98</th>\n",
       "      <td>65</td>\n",
       "      <td>1</td>\n",
       "      <td>0</td>\n",
       "      <td>110</td>\n",
       "      <td>248</td>\n",
       "      <td>0</td>\n",
       "      <td>0</td>\n",
       "    </tr>\n",
       "    <tr>\n",
       "      <th>126</th>\n",
       "      <td>66</td>\n",
       "      <td>1</td>\n",
       "      <td>0</td>\n",
       "      <td>120</td>\n",
       "      <td>302</td>\n",
       "      <td>0</td>\n",
       "      <td>1</td>\n",
       "    </tr>\n",
       "    <tr>\n",
       "      <th>160</th>\n",
       "      <td>77</td>\n",
       "      <td>1</td>\n",
       "      <td>0</td>\n",
       "      <td>125</td>\n",
       "      <td>304</td>\n",
       "      <td>0</td>\n",
       "      <td>0</td>\n",
       "    </tr>\n",
       "    <tr>\n",
       "      <th>162</th>\n",
       "      <td>77</td>\n",
       "      <td>1</td>\n",
       "      <td>0</td>\n",
       "      <td>125</td>\n",
       "      <td>304</td>\n",
       "      <td>0</td>\n",
       "      <td>0</td>\n",
       "    </tr>\n",
       "    <tr>\n",
       "      <th>193</th>\n",
       "      <td>69</td>\n",
       "      <td>1</td>\n",
       "      <td>3</td>\n",
       "      <td>160</td>\n",
       "      <td>234</td>\n",
       "      <td>1</td>\n",
       "      <td>1</td>\n",
       "    </tr>\n",
       "  </tbody>\n",
       "</table>\n",
       "</div>"
      ],
      "text/plain": [
       "     age  sex  chest pain type  bp level  chol level  fasting blood sugar  \\\n",
       "2     70    1                0       145         174                    0   \n",
       "33    70    1                2       160         269                    0   \n",
       "58    67    1                2       152         212                    0   \n",
       "62    67    1                0       100         299                    0   \n",
       "89    68    1                0       144         193                    1   \n",
       "98    65    1                0       110         248                    0   \n",
       "126   66    1                0       120         302                    0   \n",
       "160   77    1                0       125         304                    0   \n",
       "162   77    1                0       125         304                    0   \n",
       "193   69    1                3       160         234                    1   \n",
       "\n",
       "     target  \n",
       "2         0  \n",
       "33        0  \n",
       "58        0  \n",
       "62        0  \n",
       "89        0  \n",
       "98        0  \n",
       "126       1  \n",
       "160       0  \n",
       "162       0  \n",
       "193       1  "
      ]
     },
     "execution_count": 5,
     "metadata": {},
     "output_type": "execute_result"
    }
   ],
   "source": [
    "df1.head(10)"
   ]
  },
  {
   "cell_type": "code",
   "execution_count": 6,
   "id": "2b5c3b72",
   "metadata": {},
   "outputs": [],
   "source": [
    "x=df1[['age','sex','chest pain type','bp level','chol level','fasting blood sugar']]\n",
    "y=df1['target']"
   ]
  },
  {
   "cell_type": "code",
   "execution_count": 7,
   "id": "70f20571",
   "metadata": {},
   "outputs": [],
   "source": [
    "from sklearn.model_selection import train_test_split\n",
    "x_train,x_test,y_train,y_test=train_test_split(x,y,test_size=0.2)"
   ]
  },
  {
   "cell_type": "code",
   "execution_count": 8,
   "id": "f95d2f00",
   "metadata": {},
   "outputs": [
    {
     "data": {
      "text/plain": [
       "0.8235294117647058"
      ]
     },
     "execution_count": 8,
     "metadata": {},
     "output_type": "execute_result"
    }
   ],
   "source": [
    "from sklearn.ensemble import RandomForestClassifier \n",
    "model = RandomForestClassifier(max_depth=4, random_state = 10) \n",
    "model.fit(x_train, y_train)\n",
    "from sklearn.metrics import accuracy_score\n",
    "pred_cv = model.predict(x_test)\n",
    "accuracy_score(y_test,pred_cv)"
   ]
  },
  {
   "cell_type": "code",
   "execution_count": 9,
   "id": "e79ab299",
   "metadata": {},
   "outputs": [
    {
     "name": "stdout",
     "output_type": "stream",
     "text": [
      "Overwriting app.py\n"
     ]
    }
   ],
   "source": [
    "%%writefile app.py\n",
    " \n",
    "import pickle\n",
    "import streamlit as st\n",
    "\n",
    "pickle_in = open('classifier.pkl', 'rb') \n",
    "classifier = pickle.load(pickle_in)\n",
    " \n",
    "@st.cache()\n",
    "  \n",
    "def prediction(age,sex,chest_pain_type,bp_level,chol_level,fasting_blood_sugar):   \n",
    "     \n",
    "    if sex == \"Male\":\n",
    "        sex = 0\n",
    "    else:\n",
    "        sex = 1\n",
    "\n",
    "    if chest_pain_type  == \"High\":\n",
    "        chest_pain_type = 3\n",
    "    elif chest_pain_type  == \"Normal\":\n",
    "        chest_pain_type = 2\n",
    "    elif chest_pain_type  == \"Low\":\n",
    "        chest_pain_type = 1\n",
    "    else:\n",
    "        chest_pain_type = 0\n",
    "\n",
    "    \n",
    "    if fasting_blood_sugar ==\"Low\":\n",
    "        fasting_blood_sugar = 0\n",
    "    else:\n",
    "        fasting_blood_sugar = 1\n",
    " \n",
    "    # Making predictions \n",
    "    prediction = classifier.predict([[age,sex,chest_pain_type,bp_level,chol_level,fasting_blood_sugar]])\n",
    "     \n",
    "    #if prediction == 0:\n",
    "        #pred_good(prediction):\n",
    "    if prediction==0:\n",
    "        import webbrowser\n",
    "        f = open('file1.html','w')\n",
    "        message = \"\"\"<html>\n",
    "        <head><h1 style=\"text-align:center\">Your health is normal,Recently there is a No Risk</h1></head>\n",
    "        <body>\n",
    "        <h2>Diet You need to follow</h2>\n",
    "        <ul>\n",
    "        <li>Eat a wide variety of foods from the five food groups: plenty of colourful vegetables, legumes/beans; fruit; grain (cereal) foods, mostly wholegrain and high fibre varieties; lean meats and poultry, fish, eggs, tofu, nuts and seeds; milk, yoghurt, cheese or their alternatives, mostly reduced fat.Drink plenty of water – six to eight cups of fluid per day.</li>\n",
    "        <li>Limit foods high in saturated fat, such as biscuits, cakes, pastries, pies, processed meats, commercial burgers, pizza, fried foods, potato chips, crisps and other savoury snacks.</li> \n",
    "        <li>Replace high fat foods containing mostly saturated fat with foods containing mostly polyunsaturated and monounsaturated fats. Swap butter, cream, cooking margarine, coconut and palm oil with unsaturated fats from oils, spreads, nut butters and pastes, and avocado.</li>\n",
    "        <li>Limit foods and drinks containing added salt, and don’t add salt to foods in cooking or at the table.</li>\n",
    "        <li>Limit foods and drinks containing added sugars, such as confectionery, sugar-sweetened soft drinks and cordials, fruit drinks, vitamin waters, energy and sports drinks.</li>\n",
    "        <li>Limit alcohol. (Drink no more than two standard drinks a day.)</li>\n",
    "        <li>Keep ‘extras’ or ‘sometimes foods’ to a minimum – they’re not a regular part of a healthy diet. Extras are the high sugar, high fat, high salt foods listed above, such as commercial burgers, pizza, alcohol, lollies, cakes and biscuits, fried foods, and fruit juices and cordials. </li>\n",
    "        <li>Be physically active. (Aim for at least 30 minutes of moderate intensity physical activity, such as walking, every day.)</li>\n",
    "        </ul>\n",
    "        <h2>Exercises to keep healthy</h2>\n",
    "        <ul>\n",
    "        <li>Water aerobics</li>\n",
    "        <li>Chair yoga</li>\n",
    "        <li> Resistance band workouts</li>\n",
    "        <li>Pilates</li>\n",
    "        <li>Walking</li>\n",
    "        <li>Body weight workouts</li>\n",
    "        <li>Dumbbell strength training</li>\n",
    "        </ul>\n",
    "        \n",
    "        <h2>Exercises Seniors Should Avoid</h2>\n",
    "        <ol>\n",
    "        <li>Squats with dumbbells or weights</li>\n",
    "        <li>Bench press</li>\n",
    "        <li>Leg press</li>\n",
    "        <li>Long-distance running</li>\n",
    "        <li>Abdominal crunches</li>\n",
    "        <li>Upright row</li>\n",
    "        <li>High-intensity interval training</li>\n",
    "        </ol>\n",
    "        </body>\n",
    "        </html>\"\"\"\n",
    "        f.write(message)\n",
    "        f.close()\n",
    "        return webbrowser.open_new_tab('file1.html')\n",
    "    else:\n",
    "        import webbrowser\n",
    "        f = open('file2.html','w')\n",
    "        message = \"\"\"<html>\n",
    "        <head><h1 style=\"text-align:center\">You need to take care of yourself,recently there is a risk of heart disease</h1></head>\n",
    "        <body>\n",
    "        <h2>Diet You need to follow </h2>\n",
    "        <ul>\n",
    "        <li>Fill half your plate with fruits and vegetables. A quarter gets lean protein like baked fish, beans, or chicken. The last quarter holds grains, preferably whole, like brown rice.</li>\n",
    "        <li>Caffeine can raise your blood sugar and blood pressure. If you have higher blood sugar or blood pressure after drinking coffee, “limit your caffeine intake to 200 milligrams -- about 2 cups of coffee -- a day,”</li>\n",
    "        <li>Since you have high blood pressure, you should get no more than 1,500 milligrams of sodium per day. That's less than a teaspoon.So retrain taste buds. Instead of reaching for the saltshaker, flavor food with citrus zest, garlic, rosemary, ginger, jalapeno peppers, oregano, or cumin.Cooking at home also helps. “If you’re eating something from a bag or box or off a restaurant menu, chances are you’re getting too much sodium,”So avoid this.</li>\n",
    "        <li>Look for visible seeds and grains in your food,Whole grains are rich in vitamins and minerals, plus contain fiber, which keeps you full and helps steady blood sugar. Aim for three to five servings of grains each day, and make at least half of those servings whole grains.</li>\n",
    "        <li>Bananas are a good source of potassium. So are cantaloupe, broccoli, raw carrots, lentils, potatoes, whole wheat bread, bran flakes, and nuts.“Potassium naturally reduces the effects of sodium, helping to control blood pressure,”</li>\n",
    "        <li>Favor fats from plant foods. Some options: olive oil, avocado, nuts, and flaxseed.Saturated fats, like you find in skin-on chicken, butter, and cheese, should make up less than 10% of your daily calories.Avoid trans fats -- the partially hydrogenated oils found in fried foods and baked goods. And limit saturated fats, which are mostly found in fatty cuts of meat and whole-fat dairy products. “Both of these unhealthy fats are linked to increased cholesterol, which contributes to heart disease,”</li>\n",
    "        </ul>\n",
    "        \n",
    "        <h2>Exercises to keep healthy</h2>\n",
    "        <ul>\n",
    "        <li>Go for a nice run or jog</li>\n",
    "        <li>Take a brisk walk</li>\n",
    "        <li>Take a few laps at the pool</li>\n",
    "        <li>Lift a few weights</li>\n",
    "        <li>Strike a few yoga poses</li>\n",
    "        <li>Ride a Bike</li>\n",
    "        <li>Hit the Gym</li>\n",
    "        </ul>\n",
    "        \n",
    "        <h2>Exercises Seniors Should Avoid</h2>\n",
    "        <ol>\n",
    "        <li>Squats with dumbbells or weights</li>\n",
    "        <li>Bench press</li>\n",
    "        <li>Leg press</li>\n",
    "        <li>Long-distance running</li>\n",
    "        <li>Abdominal crunches</li>\n",
    "        <li>Upright row</li>\n",
    "        <li>High-intensity interval training</li>\n",
    "        </ol>\n",
    "        \n",
    "        </body>\n",
    "        </html>\"\"\"\n",
    "        f.write(message)\n",
    "        f.close()\n",
    "        return webbrowser.open_new_tab('file2.html')\n",
    "\n",
    "      \n",
    "def main():       \n",
    "    html_temp = \"\"\" \n",
    "    <div style =\"background-color:yellow;padding:13px\"> \n",
    "    <h1 style =\"color:black;text-align:center;\">Helping Sunita For Living Healthier Life</h1> \n",
    "    </div> \n",
    "    \"\"\"\n",
    "      \n",
    "    st.markdown(html_temp, unsafe_allow_html = True) \n",
    "      \n",
    "    age = st.number_input('Age of Women')\n",
    "    sex = st.selectbox('Sex',(\"Male\",\"Female\")) \n",
    "    chest_pain_type = st.selectbox('chest pain type',(\"High\",\"Normal\",\"Low\",\"No pain\")) \n",
    "    bp_level = st.number_input(\"Enter the value of Blood Pressure Check-up \")\n",
    "    chol_level = st.number_input(\"Enter the value of cholestrol Check-up \") \n",
    "    fasting_blood_sugar = st.selectbox('Blood Sugar',(\"Low\",\"High\")) \n",
    "         \n",
    "    if st.button(\"Good to go\"): \n",
    "        result = prediction(age,sex,chest_pain_type,bp_level,chol_level,fasting_blood_sugar) \n",
    "        \n",
    "if __name__=='__main__': \n",
    "    main()"
   ]
  },
  {
   "cell_type": "code",
   "execution_count": 10,
   "id": "235acb31",
   "metadata": {},
   "outputs": [
    {
     "data": {
      "text/plain": [
       "1.0"
      ]
     },
     "execution_count": 10,
     "metadata": {},
     "output_type": "execute_result"
    }
   ],
   "source": [
    "pred_train = model.predict(x_train)\n",
    "accuracy_score(y_train,pred_train)"
   ]
  },
  {
   "cell_type": "code",
   "execution_count": 11,
   "id": "b8edf07d",
   "metadata": {},
   "outputs": [],
   "source": [
    "import pickle \n",
    "pickle_out = open(\"classifier.pkl\", mode = \"wb\") \n",
    "pickle.dump(model, pickle_out) \n",
    "pickle_out.close()"
   ]
  },
  {
   "cell_type": "code",
   "execution_count": 12,
   "id": "d7b646c7",
   "metadata": {},
   "outputs": [],
   "source": [
    "import os\n",
    "get_ipython().system = os.system"
   ]
  },
  {
   "cell_type": "code",
   "execution_count": 13,
   "id": "ca895212",
   "metadata": {},
   "outputs": [
    {
     "data": {
      "text/plain": [
       "1"
      ]
     },
     "execution_count": 13,
     "metadata": {},
     "output_type": "execute_result"
    }
   ],
   "source": [
    "!streamlit run app.py &>/dev/null&\n"
   ]
  },
  {
   "cell_type": "code",
   "execution_count": null,
   "id": "f016ebe7",
   "metadata": {},
   "outputs": [],
   "source": []
  }
 ],
 "metadata": {
  "kernelspec": {
   "display_name": "Python 3",
   "language": "python",
   "name": "python3"
  },
  "language_info": {
   "codemirror_mode": {
    "name": "ipython",
    "version": 3
   },
   "file_extension": ".py",
   "mimetype": "text/x-python",
   "name": "python",
   "nbconvert_exporter": "python",
   "pygments_lexer": "ipython3",
   "version": "3.9.2"
  }
 },
 "nbformat": 4,
 "nbformat_minor": 5
}
